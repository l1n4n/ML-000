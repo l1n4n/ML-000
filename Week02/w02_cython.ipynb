{
  "nbformat": 4,
  "nbformat_minor": 0,
  "metadata": {
    "kernelspec": {
      "display_name": "Python 3",
      "language": "python",
      "name": "python3"
    },
    "language_info": {
      "codemirror_mode": {
        "name": "ipython",
        "version": 3
      },
      "file_extension": ".py",
      "mimetype": "text/x-python",
      "name": "python",
      "nbconvert_exporter": "python",
      "pygments_lexer": "ipython3",
      "version": "3.7.4"
    },
    "colab": {
      "name": "w02_cython.ipynb",
      "provenance": [],
      "collapsed_sections": [],
      "machine_shape": "hm"
    }
  },
  "cells": [
    {
      "cell_type": "code",
      "metadata": {
        "id": "y_RXlH8fgGyp"
      },
      "source": [
        "%load_ext Cython"
      ],
      "execution_count": null,
      "outputs": []
    },
    {
      "cell_type": "code",
      "metadata": {
        "id": "cztO5tNvgn-r"
      },
      "source": [
        "import pandas as pd\n",
        "import numpy as np\n",
        "\n",
        "y = np.random.randint(2, size=(5000, 1))\n",
        "x = np.random.randint(10, size=(5000, 1))\n",
        "data = pd.DataFrame(np.concatenate([y, x], axis=1), columns=['y', 'x'])"
      ],
      "execution_count": null,
      "outputs": []
    },
    {
      "cell_type": "markdown",
      "metadata": {
        "id": "-lENOVL3IY7b"
      },
      "source": [
        "# Original Version"
      ]
    },
    {
      "cell_type": "code",
      "metadata": {
        "id": "NecexO7Nk8Tb"
      },
      "source": [
        "def target_mean_v1(data, y_name, x_name):\n",
        "    result = np.zeros(data.shape[0])\n",
        "    for i in range(data.shape[0]):\n",
        "        groupby_result = data[data.index != i].groupby([x_name], as_index=False).agg(['mean', 'count'])\n",
        "        result[i] = groupby_result.loc[groupby_result.index == data.loc[i, x_name], (y_name, 'mean')]\n",
        "    return result"
      ],
      "execution_count": null,
      "outputs": []
    },
    {
      "cell_type": "code",
      "metadata": {
        "id": "mr2S89pthj5W"
      },
      "source": [
        "def target_mean_v2(data, y_name, x_name):\n",
        "    result = np.zeros(data.shape[0])\n",
        "    value_dict = dict()\n",
        "    count_dict = dict()\n",
        "    for i in range(data.shape[0]):\n",
        "        if data.loc[i, x_name] not in value_dict.keys():\n",
        "            value_dict[data.loc[i, x_name]] = data.loc[i, y_name]\n",
        "            count_dict[data.loc[i, x_name]] = 1\n",
        "        else:\n",
        "            value_dict[data.loc[i, x_name]] += data.loc[i, y_name]\n",
        "            count_dict[data.loc[i, x_name]] += 1\n",
        "    for i in range(data.shape[0]):\n",
        "        result[i] = (value_dict[data.loc[i, x_name]] - data.loc[i, y_name]) / (count_dict[data.loc[i, x_name]] - 1)\n",
        "    return result"
      ],
      "execution_count": null,
      "outputs": []
    },
    {
      "cell_type": "code",
      "metadata": {
        "colab": {
          "base_uri": "https://localhost:8080/"
        },
        "id": "h8NejPGH8llR",
        "outputId": "70c374a4-178b-4f55-b066-5de7bd7f7783"
      },
      "source": [
        "%%timeit\n",
        "target_mean_v1(data, 'y', 'x')"
      ],
      "execution_count": null,
      "outputs": [
        {
          "output_type": "stream",
          "text": [
            "1 loop, best of 3: 26.1 s per loop\n"
          ],
          "name": "stdout"
        }
      ]
    },
    {
      "cell_type": "code",
      "metadata": {
        "colab": {
          "base_uri": "https://localhost:8080/"
        },
        "id": "SUTRWyrPm-4j",
        "outputId": "5e81dac5-eb34-4d80-b28e-a3bfa63346a8"
      },
      "source": [
        "%%timeit\n",
        "target_mean_v2(data, 'y', 'x')"
      ],
      "execution_count": null,
      "outputs": [
        {
          "output_type": "stream",
          "text": [
            "1 loop, best of 3: 261 ms per loop\n"
          ],
          "name": "stdout"
        }
      ]
    },
    {
      "cell_type": "markdown",
      "metadata": {
        "id": "dkZ0HCQPhW58"
      },
      "source": [
        "# Cython Version"
      ]
    },
    {
      "cell_type": "code",
      "metadata": {
        "id": "y2Dyaa5b4pG_"
      },
      "source": [
        "%%cython -a\n",
        "# distutils: extra_compile_args=-fopenmp\n",
        "# distutils: extra_link_args=-fopenmp\n",
        "\n",
        "import time\n",
        "import numpy as np\n",
        "cimport numpy as np\n",
        "cimport cython\n",
        "from cython.parallel import prange\n",
        "\n",
        "@cython.boundscheck(False)\n",
        "@cython.wraparound(False)\n",
        "cpdef target_mean_v3(data, y_name, x_name):\n",
        "    X = data[x_name].values\n",
        "    Y = data[y_name].values\n",
        "    cdef Py_ssize_t N = X.shape[0] \n",
        "    v_dict = np.zeros(N, dtype=np.int)\n",
        "    c_dict = np.zeros(N, dtype=np.int)\n",
        "    cdef long[::1] value_dict = v_dict\n",
        "    cdef long[::1] count_dict = c_dict\n",
        "\n",
        "    cdef long[:] x_pt = X \n",
        "    cdef long[:] y_pt = Y\n",
        "    cdef Py_ssize_t i\n",
        "    cdef long x_id\n",
        "    for i in range(N):\n",
        "        x_id = x_pt[i]\n",
        "        value_dict[x_id] += y_pt[i]\n",
        "        count_dict[x_id] += 1\n",
        "    \n",
        "    result = np.zeros(N)\n",
        "    cdef double[::1] result_pt = result\n",
        "    for i in range(N): \n",
        "        x_id = x_pt[i]\n",
        "        result_pt[i] = (value_dict[x_id] - y_pt[i]) / (count_dict[x_id] - 1)\n",
        "    return result\n"
      ],
      "execution_count": null,
      "outputs": []
    },
    {
      "cell_type": "code",
      "metadata": {
        "colab": {
          "base_uri": "https://localhost:8080/"
        },
        "id": "y1wko6Ky9FEw",
        "outputId": "f052b286-3a1e-44a8-f5d2-bea1a1470959"
      },
      "source": [
        "%%timeit\n",
        "target_mean_v3(data, 'y', 'x')"
      ],
      "execution_count": null,
      "outputs": [
        {
          "output_type": "stream",
          "text": [
            "The slowest run took 5.18 times longer than the fastest. This could mean that an intermediate result is being cached.\n",
            "10000 loops, best of 3: 31.4 µs per loop\n"
          ],
          "name": "stdout"
        }
      ]
    },
    {
      "cell_type": "code",
      "metadata": {
        "id": "aHviv2g5zQDW",
        "colab": {
          "base_uri": "https://localhost:8080/"
        },
        "outputId": "78084684-73e8-4ae7-f2be-611cd1f11f6b"
      },
      "source": [
        "result_2 = target_mean_v2(data, 'y', 'x')\n",
        "result_3 = target_mean_v3(data, 'y', 'x')\n",
        "diff = np.linalg.norm(result_2 - result_3)\n",
        "print(diff)"
      ],
      "execution_count": null,
      "outputs": [
        {
          "output_type": "stream",
          "text": [
            "0.0\n"
          ],
          "name": "stdout"
        }
      ]
    },
    {
      "cell_type": "code",
      "metadata": {
        "colab": {
          "base_uri": "https://localhost:8080/"
        },
        "id": "MUEyGGRP3MBO",
        "outputId": "1578af32-1e32-4222-a96a-a1df90a6c515"
      },
      "source": [
        "26.1/ (31.4 / 1e6)"
      ],
      "execution_count": null,
      "outputs": [
        {
          "output_type": "execute_result",
          "data": {
            "text/plain": [
              "831210.1910828026"
            ]
          },
          "metadata": {
            "tags": []
          },
          "execution_count": 16
        }
      ]
    },
    {
      "cell_type": "markdown",
      "metadata": {
        "id": "u_puAdPahtoE"
      },
      "source": [
        "# Cython with multiple threads"
      ]
    },
    {
      "cell_type": "code",
      "metadata": {
        "id": "OhoC_mSZkGQr"
      },
      "source": [
        "%%cython --cplus\n",
        "# distutils: extra_compile_args=-fopenmp\n",
        "# distutils: extra_link_args=-fopenmp\n",
        "\n",
        "import numpy as np\n",
        "import time\n",
        "cimport numpy as np\n",
        "cimport cython\n",
        "from cython.parallel import prange\n",
        "\n",
        "@cython.boundscheck(False)\n",
        "@cython.wraparound(False)\n",
        "cpdef target_mean_v4(data, y_name, x_name):\n",
        "    X = data[x_name].values\n",
        "    Y = data[y_name].values\n",
        "    cdef Py_ssize_t N = X.shape[0] \n",
        "    v_dict = np.zeros(N, dtype=np.int)\n",
        "    c_dict = np.zeros(N, dtype=np.int)\n",
        "    cdef long[::1] value_dict = v_dict\n",
        "    cdef long[::1] count_dict = c_dict\n",
        "\n",
        "    cdef long[:] x_pt = X \n",
        "    cdef long[:] y_pt = Y\n",
        "    cdef Py_ssize_t i\n",
        "    cdef long x_id\n",
        "    for i in prange(N, nogil=True):\n",
        "        x_id = x_pt[i]\n",
        "        value_dict[x_id] += y_pt[i]\n",
        "        count_dict[x_id] += 1\n",
        "    \n",
        "    result = np.zeros(N)\n",
        "    cdef double[::1] result_pt = result\n",
        "    for i in prange(N, nogil=True): \n",
        "        x_id = x_pt[i]\n",
        "        result_pt[i] = (value_dict[x_id] - y_pt[i]) / (count_dict[x_id] - 1)\n",
        "    return result"
      ],
      "execution_count": null,
      "outputs": []
    },
    {
      "cell_type": "code",
      "metadata": {
        "colab": {
          "base_uri": "https://localhost:8080/"
        },
        "id": "49QtjT7Ykkt4",
        "outputId": "e2d26da0-d0b4-4ec5-a24d-b2e765fa0500"
      },
      "source": [
        "%%timeit\n",
        "target_mean_v4(data, 'y', 'x')"
      ],
      "execution_count": null,
      "outputs": [
        {
          "output_type": "stream",
          "text": [
            "The slowest run took 31.02 times longer than the fastest. This could mean that an intermediate result is being cached.\n",
            "1000 loops, best of 3: 279 µs per loop\n"
          ],
          "name": "stdout"
        }
      ]
    },
    {
      "cell_type": "markdown",
      "metadata": {
        "id": "fhcmpHbliwEQ"
      },
      "source": [
        "- The performance got worse with multiple threads, and I guess this is due to the overhead introduced by threading, which has increased the runtime when the original code is efficient enough so there is little room for improvement."
      ]
    }
  ]
}