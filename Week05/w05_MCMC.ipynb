{
  "nbformat": 4,
  "nbformat_minor": 0,
  "metadata": {
    "accelerator": "GPU",
    "colab": {
      "name": "w05_MCMC.ipynb",
      "provenance": [],
      "collapsed_sections": [],
      "machine_shape": "hm"
    },
    "kernelspec": {
      "display_name": "Python 3",
      "name": "python3"
    }
  },
  "cells": [
    {
      "cell_type": "markdown",
      "metadata": {
        "id": "t4poiQUxN7e_"
      },
      "source": [
        "- 请复现Cameron and Trivedi (2005) 的 11.36(13.6?) 的内容\r\n",
        "- 请研究 Prior 在样本增加时对于 Posterior 的影响大小"
      ]
    },
    {
      "cell_type": "markdown",
      "metadata": {
        "id": "7MBT-1MHpgtb"
      },
      "source": [
        "# 1. Replication of 13.6"
      ]
    },
    {
      "cell_type": "code",
      "metadata": {
        "id": "GDPpp6-u7XO3"
      },
      "source": [
        "import jax \r\n",
        "from jax import lax\r\n",
        "from jax import random\r\n",
        "import jax.numpy as jnp\r\n",
        "from jax.lax import dot_general as dot"
      ],
      "execution_count": 1,
      "outputs": []
    },
    {
      "cell_type": "code",
      "metadata": {
        "id": "W6HXwMuDMGrq"
      },
      "source": [
        "from jax.scipy import linalg\n",
        "from scipy import stats"
      ],
      "execution_count": 2,
      "outputs": []
    },
    {
      "cell_type": "code",
      "metadata": {
        "id": "I3r6I89eMkdE"
      },
      "source": [
        "def gen(N, seed=0):\r\n",
        "    # keys for dgp\r\n",
        "    key = random.PRNGKey(seed)\r\n",
        "    key1, key2, key3 = random.split(key, 3)\r\n",
        "    X1 = random.normal(key1, shape=(N, 1))\r\n",
        "    dummy1 = jnp.ones((N, 1))\r\n",
        "    X1 = jnp.hstack((dummy1, X1))\r\n",
        "    X2 = random.normal(key2, shape=(N, 1))\r\n",
        "    dummy2 = jnp.ones((N, 1))\r\n",
        "    X2 = jnp.hstack((dummy2, X2))\r\n",
        "\r\n",
        "    X = linalg.block_diag(X1, X2)\r\n",
        "    # X1\r\n",
        "    #   X2\r\n",
        "\r\n",
        "    true_Beta = jnp.array([1., 1., 1., 1.,])\r\n",
        "\r\n",
        "    y = dot(X, true_Beta, (((1,),(0,)), ((),())))\r\n",
        "    # y1 1000,\r\n",
        "    # y2 1000,\r\n",
        "\r\n",
        "    true_sigma = jnp.array([[1., -0.5],\r\n",
        "                   [-0.5, 1.]])\r\n",
        "    \r\n",
        "    eps_ = random.multivariate_normal(key3, mean=jnp.zeros(2), cov=true_sigma, shape=(N,))\r\n",
        "    # e1, e2\r\n",
        "    true_eps = jnp.hstack((eps_[:, 0], eps_[:, 1]))\r\n",
        "    y = y + true_eps\r\n",
        "\r\n",
        "    Y = jnp.hstack((y[:N][:,None], y[N:][:,None]))\r\n",
        "    X_star = jnp.hstack((X1, X2))\r\n",
        "\r\n",
        "    return X, y, X_star, Y\r\n",
        "    "
      ],
      "execution_count": 3,
      "outputs": []
    },
    {
      "cell_type": "code",
      "metadata": {
        "id": "cIuTn6Lubmh7"
      },
      "source": [
        "# update beta\n",
        "def cal_C0(B0, X, sigma, T=1000):\n",
        "    I_t = jnp.eye(T)\n",
        "    s = jnp.kron(jnp.linalg.inv(sigma), I_t) # TM x TM\n",
        "    tmp = dot(s, X, (((1,),(0,)), ((),())))\n",
        "    out = dot(X.T, tmp, (((1,), (0,)), ((), ())))\n",
        "    # out = X.T @ (s @ X) # kK x TM dot (TM x TM  dot  TM x K)\n",
        "    out = jnp.linalg.inv(B0 + out)\n",
        "    return out\n",
        "\n",
        "\n",
        "def cal_multiplier(B0, beta_0, sigma, X, y, T=1000):\n",
        "    I_t = jnp.eye(T)\n",
        "    s = jnp.kron(jnp.linalg.inv(sigma), I_t) # TM x TM\n",
        "    tmp = dot(s, y, (((1,), (0,)), ((), ())))\n",
        "    out = dot(X.T, tmp, (((1,), (0,)), ((), ())))\n",
        "    # out = X.T @ (s @ y) # K x TM dot (TM x TM dot TM x 1)\n",
        "    tmp = dot(B0, beta_0, (((1,), (0,)), ((), ())))\n",
        "    out = tmp.squeeze() + out\n",
        "    # out = (B0 @ beta_0).squeeze() + out\n",
        "    return out\n",
        "\n",
        "\n",
        "def update_beta(B0, beta_0, sigma, X, y, N):\n",
        "    new_normal_cov = cal_C0(B0, X, sigma, N)\n",
        "    tmp = cal_multiplier(B0, beta_0, sigma, X, y, N)\n",
        "    # new_normal_mu = new_normal_cov @ tmp \n",
        "    new_normal_mu = dot(new_normal_cov, tmp, (((1,), (0,)), ((), ())))\n",
        "    key = random.PRNGKey(0)\n",
        "    new_beta = random.multivariate_normal(key, new_normal_mu, new_normal_cov)\n",
        "    return new_beta"
      ],
      "execution_count": 4,
      "outputs": []
    },
    {
      "cell_type": "code",
      "metadata": {
        "id": "dA00CsIor5h6"
      },
      "source": [
        "# update sigma\n",
        "def cal_A(X_star, Y, Beta):\n",
        "    B = linalg.block_diag(Beta[:2][:,None], Beta[2:][:, None]) # K x M \n",
        "    tmp = dot(X_star, B, (((1,), (0,)), ((), ()))) \n",
        "    # A = (Y - X_star @ B).T @ (Y - X_star @ B)\n",
        "    A = dot((Y - tmp).T, Y - tmp, (((1,), (0,)), ((), ())))\n",
        "    return A\n",
        "\n",
        "\n",
        "def cal_scale(D0, X_star, Y, Beta):\n",
        "    A = cal_A(X_star, Y, Beta)\n",
        "    return (jnp.linalg.inv(D0) + A)\n",
        "\n",
        "\n",
        "def update_sigma(v0, N, D0, X_star, Y, Beta):\n",
        "    new_v = v0 + N\n",
        "    new_scale = cal_scale(D0, X_star, Y, Beta)\n",
        "    new_sigma = jnp.array(stats.invwishart.rvs(new_v, new_scale))\n",
        "    return new_sigma"
      ],
      "execution_count": 5,
      "outputs": []
    },
    {
      "cell_type": "code",
      "metadata": {
        "id": "TA80lARdIc73"
      },
      "source": [
        "from jax.ops import index, index_update"
      ],
      "execution_count": 6,
      "outputs": []
    },
    {
      "cell_type": "code",
      "metadata": {
        "id": "t4b6A784s7PS"
      },
      "source": [
        "def gibbs(steps, beta_init, sigma_init, burnin=5000):\n",
        "    betas = jnp.zeros((steps, 4))\n",
        "    sigmas = jnp.zeros((steps, 2, 2))\n",
        "    Beta = beta_init\n",
        "    Sigma = sigma_init\n",
        "\n",
        "    for k in range(steps + burnin):\n",
        "        Beta = update_beta(B0, beta_0, Sigma, X, y, N)\n",
        "        Sigma = update_sigma(v0, N, D0, X_star, Y, Beta)\n",
        "        if k >= burnin:\n",
        "            i = k - burnin\n",
        "            betas = index_update(betas, index[i, 0], Beta[0])\n",
        "            betas = index_update(betas, index[i, 1], Beta[1])\n",
        "            betas = index_update(betas, index[i, 2], Beta[2])\n",
        "            betas = index_update(betas, index[i, 3], Beta[3])\n",
        "            sigmas = index_update(sigmas, index[i, 0, 0], Sigma[0][0])\n",
        "            sigmas = index_update(sigmas, index[i, 0, 1], Sigma[0][1])\n",
        "            sigmas = index_update(sigmas, index[i, 1, 0], Sigma[1][0])\n",
        "            sigmas = index_update(sigmas, index[i, 1, 1], Sigma[1][1])\n",
        "    \n",
        "    return betas, sigmas"
      ],
      "execution_count": 7,
      "outputs": []
    },
    {
      "cell_type": "markdown",
      "metadata": {
        "id": "zulXf9yc8aUX"
      },
      "source": [
        "## Experiment 1\n",
        "$\\tau$=10, N=1000, steps=50000"
      ]
    },
    {
      "cell_type": "code",
      "metadata": {
        "id": "MpaCrglvXajR"
      },
      "source": [
        "# exp1 tau=10, N=1000, steps=50000\n",
        "N = 1000\n",
        "X, y, X_star, Y = gen(N, 233)\n",
        "\n",
        "# priors\n",
        "beta_0 = jnp.zeros((4,1)) # prior mean--- KM x 1\n",
        "tau = 10 \n",
        "B0 = tau * jnp.eye(4) # precision matrix--- KM x KM (total num of params)\n",
        "D0 = jnp.eye(2) # wishart second--- M x M\n",
        "v0 = 5 # wishart first\n",
        "\n",
        "# init params\n",
        "key = random.PRNGKey(2)\n",
        "key1, key2 = random.split(key, 2)\n",
        "Beta_init = random.multivariate_normal(key1, beta_0.squeeze(), jnp.linalg.inv(B0))\n",
        "tmp = stats.invwishart.rvs(v0, D0)\n",
        "Sigma_init = jnp.array(tmp)"
      ],
      "execution_count": null,
      "outputs": []
    },
    {
      "cell_type": "code",
      "metadata": {
        "id": "QbiQUckxtLxq"
      },
      "source": [
        "bchain, schain = gibbs(50000, Beta_init, Sigma_init)"
      ],
      "execution_count": null,
      "outputs": []
    },
    {
      "cell_type": "code",
      "metadata": {
        "colab": {
          "base_uri": "https://localhost:8080/"
        },
        "id": "xwr9DHNsoLKT",
        "outputId": "fcb879b4-7c16-4993-fc45-9dee1884da8f"
      },
      "source": [
        "print(f'beta mean: {jnp.mean(bchain, axis=0)}\\nbeta std: {jnp.std(bchain, axis=0)}\\n\\nsigma mean: \\n{jnp.mean(schain, axis=0)}\\nsigma std: \\n{jnp.std(schain, axis=0)}')"
      ],
      "execution_count": null,
      "outputs": [
        {
          "output_type": "stream",
          "text": [
            "beta mean: [1.071108   0.98882085 0.9476167  0.9255525 ]\n",
            "beta std: [0.00099545 0.00086501 0.00165615 0.00085579]\n",
            "\n",
            "sigma mean: \n",
            "[[ 0.91684246 -0.4895489 ]\n",
            " [-0.4895489   0.9887918 ]]\n",
            "sigma std: \n",
            "[[0.04076786 0.03367864]\n",
            " [0.03367864 0.04412883]]\n"
          ],
          "name": "stdout"
        }
      ]
    },
    {
      "cell_type": "markdown",
      "metadata": {
        "id": "bZq1ERh18may"
      },
      "source": [
        "## Experiment 2\n",
        "$\\tau$=1, N=1000, steps=50000"
      ]
    },
    {
      "cell_type": "code",
      "metadata": {
        "id": "7fUdpQGdJsRy"
      },
      "source": [
        "# exp2 tau=1, N=1000, steps=50000\n",
        "N = 1000\n",
        "X, y, X_star, Y = gen(N, 555)\n",
        "\n",
        "# priors\n",
        "beta_0 = jnp.zeros((4,1)) # prior mean--- KM x 1\n",
        "tau = 1 \n",
        "B0 = tau * jnp.eye(4) # precision matrix--- KM x KM (total num of params)\n",
        "D0 = jnp.eye(2) # wishart second--- M x M\n",
        "v0 = 5 # wishart first\n",
        "\n",
        "# init params\n",
        "key = random.PRNGKey(666)\n",
        "Beta_init = random.multivariate_normal(key, beta_0.squeeze(), jnp.linalg.inv(B0))\n",
        "tmp = stats.invwishart.rvs(v0, D0)\n",
        "Sigma_init = jnp.array(tmp)"
      ],
      "execution_count": null,
      "outputs": []
    },
    {
      "cell_type": "code",
      "metadata": {
        "id": "NYHlGAUbn9VW",
        "colab": {
          "base_uri": "https://localhost:8080/"
        },
        "outputId": "0b8c4dd7-74b1-41b3-8491-62f77e1ca43d"
      },
      "source": [
        "bchain2, schain2 = gibbs(50000, Beta_init, Sigma_init)\n",
        "print(f'beta mean: {jnp.mean(bchain2, axis=0)}\\nbeta std: {jnp.std(bchain2, axis=0)}\\n\\nsigma mean: \\n{jnp.mean(schain2, axis=0)}\\nsigma std: \\n{jnp.std(schain2, axis=0)}')\n",
        "      "
      ],
      "execution_count": null,
      "outputs": [
        {
          "output_type": "stream",
          "text": [
            "beta mean: [1.0333867  0.9528782  1.0033783  0.91054475]\n",
            "beta std: [0.00123949 0.0004312  0.0017625  0.00035347]\n",
            "\n",
            "sigma mean: \n",
            "[[ 0.9773715  -0.51292413]\n",
            " [-0.51292413  1.0316911 ]]\n",
            "sigma std: \n",
            "[[0.04367696 0.03569066]\n",
            " [0.03569066 0.04592285]]\n"
          ],
          "name": "stdout"
        }
      ]
    },
    {
      "cell_type": "markdown",
      "metadata": {
        "id": "ydEkI1mQ8uTv"
      },
      "source": [
        "## Experiment 3\n",
        "$\\tau$=0.1, N=1000, steps=50000"
      ]
    },
    {
      "cell_type": "code",
      "metadata": {
        "id": "1Gga8OiYKvJ9"
      },
      "source": [
        "# exp3 tau=0.1, N=1000, steps=50000\n",
        "N = 1000\n",
        "X, y, X_star, Y = gen(N, 1234)\n",
        "\n",
        "# priors\n",
        "beta_0 = jnp.zeros((4,1)) # prior mean--- KM x 1\n",
        "tau = 0.1 \n",
        "B0 = tau * jnp.eye(4) # precision matrix--- KM x KM (total num of params)\n",
        "D0 = jnp.eye(2) # wishart second--- M x M\n",
        "v0 = 5 # wishart first\n",
        "\n",
        "# init params\n",
        "key = random.PRNGKey(42)\n",
        "key1, key2 = random.split(key, 2)\n",
        "Beta_init = random.multivariate_normal(key1, beta_0.squeeze(), jnp.linalg.inv(B0))\n",
        "tmp = stats.invwishart.rvs(v0, D0)\n",
        "Sigma_init = jnp.array(tmp)"
      ],
      "execution_count": null,
      "outputs": []
    },
    {
      "cell_type": "code",
      "metadata": {
        "colab": {
          "base_uri": "https://localhost:8080/"
        },
        "id": "fMoWmW-JptId",
        "outputId": "dc5f701f-b6d8-4abb-b2fe-9be68c6a196c"
      },
      "source": [
        "bchain3, schain3 = gibbs(50000, Beta_init, Sigma_init)\n",
        "print(f'beta mean: {jnp.mean(bchain3, axis=0)}\\nbeta std: {jnp.std(bchain3, axis=0)}\\n\\nsigma mean: \\n{jnp.mean(schain3, axis=0)}\\nsigma std: \\n{jnp.std(schain3, axis=0)}')"
      ],
      "execution_count": null,
      "outputs": [
        {
          "output_type": "stream",
          "text": [
            "beta mean: [1.1249856  0.93063766 0.94829667 0.98241186]\n",
            "beta std: [0.00126364 0.00056063 0.00167634 0.00046015]\n",
            "\n",
            "sigma mean: \n",
            "[[ 0.97469604 -0.47954327]\n",
            " [-0.47954327  0.98644584]]\n",
            "sigma std: \n",
            "[[0.04372931 0.0343993 ]\n",
            " [0.0343993  0.04410033]]\n"
          ],
          "name": "stdout"
        }
      ]
    },
    {
      "cell_type": "markdown",
      "metadata": {
        "id": "ackAjyUo8ydE"
      },
      "source": [
        "## Experiment 4\n",
        "$\\tau$=10, N=1000, steps=100000"
      ]
    },
    {
      "cell_type": "code",
      "metadata": {
        "id": "wi2XH-bpZYqr"
      },
      "source": [
        "# exp4 tau=10, N=1000, steps=100000\n",
        "N = 1000\n",
        "X, y, X_star, Y = gen(N, 999)\n",
        "\n",
        "# priors\n",
        "beta_0 = jnp.zeros((4,1)) # prior mean--- KM x 1\n",
        "tau = 10 \n",
        "B0 = tau * jnp.eye(4) # precision matrix--- KM x KM (total num of params)\n",
        "D0 = jnp.eye(2) # wishart second--- M x M\n",
        "v0 = 5 # wishart first\n",
        "\n",
        "# init params\n",
        "key = random.PRNGKey(14)\n",
        "key1, key2 = random.split(key, 2)\n",
        "Beta_init = random.multivariate_normal(key1, beta_0.squeeze(), jnp.linalg.inv(B0))\n",
        "tmp = stats.invwishart.rvs(v0, D0)\n",
        "Sigma_init = jnp.array(tmp)"
      ],
      "execution_count": null,
      "outputs": []
    },
    {
      "cell_type": "code",
      "metadata": {
        "colab": {
          "base_uri": "https://localhost:8080/"
        },
        "id": "F3Q_Z3HHqDfC",
        "outputId": "ad94609c-f007-4079-bfe5-3f2f4131aa36"
      },
      "source": [
        "bchain4, schain4 = gibbs(100000, Beta_init, Sigma_init)\n",
        "print(f'beta mean: {jnp.mean(bchain4, axis=0)}\\nbeta std: {jnp.std(bchain4, axis=0)}\\n\\nsigma mean: \\n{jnp.mean(schain4, axis=0)}\\nsigma std: \\n{jnp.std(schain4, axis=0)}')"
      ],
      "execution_count": null,
      "outputs": [
        {
          "output_type": "stream",
          "text": [
            "beta mean: [1.0551479 0.9772198 0.9526461 1.0094603]\n",
            "beta std: [0.00112902 0.00086685 0.00156448 0.00154567]\n",
            "\n",
            "sigma mean: \n",
            "[[ 1.0735419  -0.56289333]\n",
            " [-0.5628933   1.0357339 ]]\n",
            "sigma std: \n",
            "[[0.04815196 0.03773081]\n",
            " [0.03773081 0.04636731]]\n"
          ],
          "name": "stdout"
        }
      ]
    },
    {
      "cell_type": "markdown",
      "metadata": {
        "id": "HRX2fK8g84FB"
      },
      "source": [
        "## Experiment 5\n",
        "$\\tau$=10, N=10000, steps=100000"
      ]
    },
    {
      "cell_type": "code",
      "metadata": {
        "id": "W33TE9STZYt5"
      },
      "source": [
        "# exp5 tau=10, N=10000, steps=100000\n",
        "N = 10000\n",
        "X, y, X_star, Y = gen(N, 876)\n",
        "\n",
        "# priors\n",
        "beta_0 = jnp.zeros((4,1)) # prior mean--- KM x 1\n",
        "tau = 10 \n",
        "B0 = tau * jnp.eye(4) # precision matrix--- KM x KM (total num of params)\n",
        "D0 = jnp.eye(2) # wishart second--- M x M\n",
        "v0 = 5 # wishart first\n",
        "\n",
        "# init params\n",
        "key = random.PRNGKey(543)\n",
        "key1, key2 = random.split(key, 2)\n",
        "Beta_init = random.multivariate_normal(key1, beta_0.squeeze(), jnp.linalg.inv(B0))\n",
        "tmp = stats.invwishart.rvs(v0, D0)\n",
        "Sigma_init = jnp.array(tmp)"
      ],
      "execution_count": null,
      "outputs": []
    },
    {
      "cell_type": "code",
      "metadata": {
        "colab": {
          "base_uri": "https://localhost:8080/"
        },
        "id": "PWGjmHoaqiSa",
        "outputId": "92eefe1a-26de-4b9d-a102-c4bc44d34537"
      },
      "source": [
        "bchain5, schain5 = gibbs(100000, Beta_init, Sigma_init)\n",
        "print(f'beta mean: {jnp.mean(bchain5, axis=0)}\\nbeta std: {jnp.std(bchain5, axis=0)}\\n\\nsigma mean: \\n{jnp.mean(schain5, axis=0)}\\nsigma std: \\n{jnp.std(schain5, axis=0)}')"
      ],
      "execution_count": null,
      "outputs": [
        {
          "output_type": "stream",
          "text": [
            "beta mean: [0.9991115  0.99342287 1.0139067  0.9967205 ]\n",
            "beta std: [1.2024414e-04 1.7212481e-04 1.6849977e-04 6.2748702e-05]\n",
            "\n",
            "sigma mean: \n",
            "[[ 0.96747684 -0.4862456 ]\n",
            " [-0.48624554  0.98715985]]\n",
            "sigma std: \n",
            "[[0.01375325 0.0109615 ]\n",
            " [0.0109615  0.01401998]]\n"
          ],
          "name": "stdout"
        }
      ]
    },
    {
      "cell_type": "markdown",
      "metadata": {
        "id": "iPh0FbBQbJYl"
      },
      "source": [
        "13.6 \r\n",
        "Table 13.3\r\n",
        "![](https://i.imgur.com/zZ5wAfZ.png)\r\n",
        "\r\n",
        "My Results\r\n",
        "\r\n",
        "| Prior $\\tau$<br>Sample size N<br>Gibbs repls \t| 10<br>1,000<br>50,000 \t| 1<br>1,000<br>50,000 \t| 1/10<br>1,000<br>50,000 \t| 10,<br>1,000<br>100,000 \t| 10<br>10,000<br>100,000 \t|\r\n",
        "|----------------------------------------------\t|-----------------------\t|----------------------\t|-------------------------\t|-------------------------\t|-------------------------\t|\r\n",
        "| $\\beta_{11}$  | 1.071<br>(0.0010)     \t|1.033<br>(0.0012) |  1.125<br>(0.0013)|  1.055<br>(0.0011)  \t|     0.999<br>(0.00012)                    \t|\r\n",
        "| $\\beta_{12}$     \t| 0.989<br>(0.0009)|0.953<br>(0.0004) | 0.931<br>(0.0006)\t|    0.977<br>(0.0009)               \t|         0.993<br>(0.00017)  \t|\r\n",
        "| $\\beta_{21}$     \t| 0.948<br>(0.0017)\t| 1.003<br>(0.0018)\t| 0.948<br>(0.0017)\t|   0.953<br>(0.0016)             \t|           1.014<br>(0.00017)               \t|\r\n",
        "| $\\beta_{22}$  \t|0.926<br>(0.0009) | 0.911<br>(0.0004)|0.982<br>(0.0005) \t|        1.009<br>(0.0015) |     0.997<br>(0.00006)  |\r\n",
        "| $\\sigma_{11}$   \t|0.917<br>(0.0408) | 0.977<br>(0.0437)| 0.975<br>(0.044)\t| 1.074<br>(0.0482)   |      0.967<br>(0.0138)  |\r\n",
        "| $\\sigma_{12}$  \t| -0.490<br>(0.0337)| -0.513<br>(0.0357)| -0.480<br>(0.0344)\t|   -0.563<br>(0.0377)   \t|   -0.486<br>(0.0110)                      \t|\r\n",
        "| $\\sigma_{22}$ \t|0.989<br>(0.044) |1.031<br>(0.0459)| 0.986<br>(0.0441)| 1.036<br>(0.0464)                         \t|    0.987<br>(0.0140)                     \t|"
      ]
    },
    {
      "cell_type": "markdown",
      "metadata": {
        "id": "Sy3HGnS-1CNP"
      },
      "source": [
        "# 2. Sample size & the influence of prior on posterior\r\n",
        "- We know that the posterior distribution is proportional to the product of the prior and the likelihood, or, the sum on the log scale. Since the likelihood scales with the sample size, but the prior does not, a reasonable guess is that the posterior becomes more heavily influenced by the likelihood as the sample size increases.\r\n",
        "- Now let us conduct an experiment."
      ]
    },
    {
      "cell_type": "markdown",
      "metadata": {
        "id": "hRbtuf689V6u"
      },
      "source": [
        "## Experiment 6\n",
        "$\\tau=0.01$, $\\beta_0 = 20$, $D_0=100$, $v_0=1000$\n",
        "\n",
        "N=100, steps=20000"
      ]
    },
    {
      "cell_type": "code",
      "metadata": {
        "colab": {
          "base_uri": "https://localhost:8080/"
        },
        "id": "QeQHpA-s3EP_",
        "outputId": "f2fdb0fd-7a83-4b70-9ada-29a8b4fda8fc"
      },
      "source": [
        "# exp 6\r\n",
        "# use ''bad'' priors for different sample size to check whether the posterior would be drifted\r\n",
        "\r\n",
        "# \"bad\" priors\r\n",
        "beta_0 = jnp.zeros((4,1)) + 20. # prior mean--- KM x 1\r\n",
        "tau = 0.01\r\n",
        "B0 = tau * jnp.eye(4) # precision matrix--- KM x KM (total num of params)\r\n",
        "D0 = jnp.eye(2) * 100 # wishart second--- M x M\r\n",
        "v0 = 1000 # wishart first\r\n",
        "\r\n",
        "# init params \r\n",
        "key = random.PRNGKey(7)\r\n",
        "key1, key2 = random.split(key, 2)\r\n",
        "Beta_init = random.multivariate_normal(key1, beta_0.squeeze(), jnp.linalg.inv(B0))\r\n",
        "tmp = stats.invwishart.rvs(v0, D0)\r\n",
        "Sigma_init = jnp.array(tmp)\r\n",
        "\r\n",
        "print(Beta_init)\r\n",
        "print(Sigma_init)"
      ],
      "execution_count": 8,
      "outputs": [
        {
          "output_type": "stream",
          "text": [
            "[32.940605 22.11784  19.58516  31.682552]\n",
            "[[0.09738881 0.00663169]\n",
            " [0.00663169 0.09309409]]\n"
          ],
          "name": "stdout"
        }
      ]
    },
    {
      "cell_type": "code",
      "metadata": {
        "colab": {
          "base_uri": "https://localhost:8080/"
        },
        "id": "i5gcy2LElCTS",
        "outputId": "ab42da85-b256-45fa-c785-643f738215ff"
      },
      "source": [
        "# Small sample size\n",
        "N = 100 \n",
        "X, y, X_star, Y = gen(N, 777)\n",
        "print(X.shape, y.shape, X_star.shape, Y.shape)"
      ],
      "execution_count": 19,
      "outputs": [
        {
          "output_type": "stream",
          "text": [
            "(200, 4) (200,) (100, 4) (100, 2)\n"
          ],
          "name": "stdout"
        }
      ]
    },
    {
      "cell_type": "code",
      "metadata": {
        "colab": {
          "base_uri": "https://localhost:8080/"
        },
        "id": "28McF0ci1CRf",
        "outputId": "bc99c434-09d4-4a39-ccbb-f3d88a63d5a6"
      },
      "source": [
        "bch, sch = gibbs(20000, Beta_init, Sigma_init, 5000)\r\n",
        "print(f'beta mean: {jnp.mean(bch, axis=0)}\\nbeta std: {jnp.std(bch, axis=0)}\\n\\nsigma mean: \\n{jnp.mean(sch, axis=0)}\\nsigma std: \\n{jnp.std(sch, axis=0)}')"
      ],
      "execution_count": 20,
      "outputs": [
        {
          "output_type": "stream",
          "text": [
            "beta mean: [1.0521065 1.1746675 0.8870448 1.1035442]\n",
            "beta std: [0.00110992 0.00280109 0.00141083 0.00168117]\n",
            "\n",
            "sigma mean: \n",
            "[[ 0.09369922 -0.0417194 ]\n",
            " [-0.0417194   0.08663741]]\n",
            "sigma std: \n",
            "[[0.00397859 0.00298619]\n",
            " [0.00298619 0.00371236]]\n"
          ],
          "name": "stdout"
        }
      ]
    },
    {
      "cell_type": "markdown",
      "metadata": {
        "id": "hpgd1VoP__BJ"
      },
      "source": [
        "## Experiment 7\n",
        "$\\tau=0.01$, $\\beta_0 = 20$, $D_0=100$, $v_0=1000$\n",
        "\n",
        "N=10000, steps=20000"
      ]
    },
    {
      "cell_type": "code",
      "metadata": {
        "colab": {
          "base_uri": "https://localhost:8080/"
        },
        "id": "uf-mwZI51KH0",
        "outputId": "cc2cf0ac-6f1d-4387-e8fc-44e424cee94d"
      },
      "source": [
        "# Larger sample size\r\n",
        "N = 10000\r\n",
        "X, y, X_star, Y = gen(N, 777)\r\n",
        "print(X.shape, y.shape, X_star.shape, Y.shape)"
      ],
      "execution_count": 9,
      "outputs": [
        {
          "output_type": "stream",
          "text": [
            "(20000, 4) (20000,) (10000, 4) (10000, 2)\n"
          ],
          "name": "stdout"
        }
      ]
    },
    {
      "cell_type": "code",
      "metadata": {
        "id": "Fl30CPDV1xAQ",
        "colab": {
          "base_uri": "https://localhost:8080/"
        },
        "outputId": "7e381a11-d9f3-4650-9b15-107ee4e863a0"
      },
      "source": [
        "bch2, sch2 = gibbs(20000, Beta_init, Sigma_init, 5000)\r\n",
        "print(f'beta mean: {jnp.mean(bch2, axis=0)}\\nbeta std: {jnp.std(bch2, axis=0)}\\n\\nsigma mean: \\n{jnp.mean(sch2, axis=0)}\\nsigma std: \\n{jnp.std(sch2, axis=0)}')"
      ],
      "execution_count": 10,
      "outputs": [
        {
          "output_type": "stream",
          "text": [
            "beta mean: [1.0145483  0.99004215 0.9838576  0.98913646]\n",
            "beta std: [1.1545528e-04 4.1313357e-05 1.5581232e-04 3.4818971e-05]\n",
            "\n",
            "sigma mean: \n",
            "[[ 0.89503586 -0.44346067]\n",
            " [-0.44346067  0.89904416]]\n",
            "sigma std: \n",
            "[[0.01202122 0.00956041]\n",
            " [0.00956041 0.01211932]]\n"
          ],
          "name": "stdout"
        }
      ]
    },
    {
      "cell_type": "code",
      "metadata": {
        "id": "ON5MRJzZ2Ziu"
      },
      "source": [
        "import matplotlib.pyplot as plt\r\n",
        "%matplotlib inline"
      ],
      "execution_count": 12,
      "outputs": []
    },
    {
      "cell_type": "code",
      "metadata": {
        "id": "9wKNjaPD12VE"
      },
      "source": [
        "import seaborn as sns\r\n",
        "sns.set_style(\"whitegrid\")\r\n",
        "sns.set_context(\"talk\")\r\n",
        "sns.set_palette(\"pastel\")\r\n",
        "\r\n",
        "import warnings\r\n",
        "warnings.filterwarnings('ignore')"
      ],
      "execution_count": 13,
      "outputs": []
    },
    {
      "cell_type": "code",
      "metadata": {
        "colab": {
          "base_uri": "https://localhost:8080/",
          "height": 316
        },
        "id": "HLML1TtG32I2",
        "outputId": "d9f26c03-c6c8-405b-fa7a-576329fff1ec"
      },
      "source": [
        "plt.figure(figsize=(12,4))\r\n",
        "blabels = ['b11', 'b12', 'b21', 'b22']\r\n",
        "for i in range(4):\r\n",
        "    sns.distplot(bch[:, i], hist=False, kde=True, kde_kws = {'linewidth': 2},label=blabels[i])\r\n",
        "\r\n",
        "plt.axvline(1.0, 0,300, color='k', linestyle='dashed', linewidth=1)\r\n",
        "# plt.axvline(2.0, 0,300, color='k', linestyle='dashed', linewidth=1)\r\n",
        "# plt.text(1.88, 300, \"True b11/b21\")\r\n",
        "plt.text(0.89, 300, \"True b12/b22\")\r\n",
        "plt.legend(prop={'size': 10}, title = 'Posterior Dist of Beta')\r\n",
        "plt.title('N=100')"
      ],
      "execution_count": 22,
      "outputs": [
        {
          "output_type": "execute_result",
          "data": {
            "text/plain": [
              "Text(0.5, 1.0, 'N=100')"
            ]
          },
          "metadata": {
            "tags": []
          },
          "execution_count": 22
        },
        {
          "output_type": "display_data",
          "data": {
            "image/png": "[encoded data removed]",
            "text/plain": [
              "<Figure size 864x288 with 1 Axes>"
            ]
          },
          "metadata": {
            "tags": []
          }
        }
      ]
    },
    {
      "cell_type": "code",
      "metadata": {
        "colab": {
          "base_uri": "https://localhost:8080/",
          "height": 316
        },
        "id": "WmupwNgi34s0",
        "outputId": "fb5a7fc4-6ddf-4656-9d54-277b9f186bf9"
      },
      "source": [
        "plt.figure(figsize=(12,4))\r\n",
        "slabels = ['s11', 's12', 's21', 's22']\r\n",
        "for k, (i,j) in enumerate([(0,0), (0, 1), (1,0), (1,1)]):\r\n",
        "    sns.distplot(sch[:, i, j], hist=False, kde=True, kde_kws = {'linewidth': 2},label=slabels[k])\r\n",
        "plt.axvline(-0.5, 0,80, color='k', linestyle='dashed', linewidth=1)\r\n",
        "plt.axvline(1., 0, 80 , color='k', linestyle='dashed', linewidth=1)\r\n",
        "plt.text(0.88, 70, \"True s11/s22\")\r\n",
        "plt.text(-0.49, 70, \"True s12/s21\")\r\n",
        "plt.legend(prop={'size': 10}, title = 'Posterior Dist of Sigma')\r\n",
        "plt.title('N=100')"
      ],
      "execution_count": 23,
      "outputs": [
        {
          "output_type": "execute_result",
          "data": {
            "text/plain": [
              "Text(0.5, 1.0, 'N=100')"
            ]
          },
          "metadata": {
            "tags": []
          },
          "execution_count": 23
        },
        {
          "output_type": "display_data",
          "data": {
            "image/png": "[encoded data removed]",
            "text/plain": [
              "<Figure size 864x288 with 1 Axes>"
            ]
          },
          "metadata": {
            "tags": []
          }
        }
      ]
    },
    {
      "cell_type": "code",
      "metadata": {
        "id": "gVnO9jMs37Pd",
        "colab": {
          "base_uri": "https://localhost:8080/",
          "height": 316
        },
        "outputId": "8b6c9a0c-3f7d-4a83-a61e-5a80fc1f25ae"
      },
      "source": [
        "plt.figure(figsize=(12,4))\r\n",
        "blabels = ['b11', 'b12', 'b21', 'b22']\r\n",
        "for i in range(4):\r\n",
        "    sns.distplot(bch2[:, i], hist=False, kde=True, kde_kws = {'linewidth': 2},label=blabels[i])\r\n",
        "\r\n",
        "plt.axvline(1.0, 0,8000, color='k', linestyle='dashed', linewidth=1)\r\n",
        "# plt.axvline(2.0, 0,8000, color='k', linestyle='dashed', linewidth=1)\r\n",
        "# plt.text(1.87, 5000, \"True betas\")\r\n",
        "plt.text(1.02, 5000, \"True betas\")\r\n",
        "plt.xlim([0.9, 1.2])\r\n",
        "plt.legend(prop={'size': 10}, title = 'Posterior Dist of Beta')\r\n",
        "plt.title('N=10000')"
      ],
      "execution_count": 25,
      "outputs": [
        {
          "output_type": "execute_result",
          "data": {
            "text/plain": [
              "Text(0.5, 1.0, 'N=10000')"
            ]
          },
          "metadata": {
            "tags": []
          },
          "execution_count": 25
        },
        {
          "output_type": "display_data",
          "data": {
            "image/png": "[encoded data removed]",
            "text/plain": [
              "<Figure size 864x288 with 1 Axes>"
            ]
          },
          "metadata": {
            "tags": []
          }
        }
      ]
    },
    {
      "cell_type": "code",
      "metadata": {
        "id": "zuSwcv6q37Xr",
        "colab": {
          "base_uri": "https://localhost:8080/",
          "height": 316
        },
        "outputId": "eb48cfb1-b853-4661-ea65-596870b96786"
      },
      "source": [
        "plt.figure(figsize=(12,4))\r\n",
        "slabels = ['s11', 's12', 's21', 's22']\r\n",
        "for k, (i,j) in enumerate([(0,0), (0, 1), (1,0), (1,1)]):\r\n",
        "    sns.distplot(sch2[:, i, j], hist=False, kde=True, kde_kws = {'linewidth': 2},label=slabels[k])\r\n",
        "plt.axvline(-0.5, 0, 35, color='k', linestyle='dashed', linewidth=1)\r\n",
        "plt.axvline(1., 0, 35, color='k', linestyle='dashed', linewidth=1)\r\n",
        "plt.text(0.9, 25, \"True s11/s22\")\r\n",
        "plt.text(-0.49, 31, \"True s12/s21\")\r\n",
        "plt.legend(prop={'size': 10}, title = 'Posterior Dist of Sigma')\r\n",
        "plt.title('N=10000')"
      ],
      "execution_count": 18,
      "outputs": [
        {
          "output_type": "execute_result",
          "data": {
            "text/plain": [
              "Text(0.5, 1.0, 'N=10000')"
            ]
          },
          "metadata": {
            "tags": []
          },
          "execution_count": 18
        },
        {
          "output_type": "display_data",
          "data": {
            "image/png": "[encoded data removed]",
            "text/plain": [
              "<Figure size 864x288 with 1 Axes>"
            ]
          },
          "metadata": {
            "tags": []
          }
        }
      ]
    },
    {
      "cell_type": "markdown",
      "metadata": {
        "id": "Tpp_fAzO4A89"
      },
      "source": [
        "## Conclusion\n",
        "The experiment verifies our guess: the prior has greater impact on the posterior with small sample size, but with large sample size, the posterior converges to the true values. "
      ]
    },
    {
      "cell_type": "markdown",
      "metadata": {
        "id": "Tts6pF18shAe"
      },
      "source": [
        "# 3. Implementation Notes\r\n",
        "- The formula listed on page 453 seems **mistaken**. We can easily check the dimensions of the matrices, say, $C_0$, to verify: let `m` be the numebr of equations (2 here), `q` be the number of parameters in each equation (also 2 here since we added intercept), then $C_0$ should be `mq x mq`, also is $B_0$; however, $x_i$ is `m x q` and $\\Sigma$ is `m x m`, and then $\\sum_i^{N} x_i' \\Sigma^{-1} x_i$ is `m x m` which does not match the dimension of $B_0$ or $C_0$.\r\n",
        "\r\n",
        "![](https://i.imgur.com/bLMSxWp.png)\r\n",
        "\r\n",
        "- Therefore, I use the following formula from [Griffiths(2001)](https://core.ac.uk/download/pdf/6561736.pdf) to update beta and sigma, but with some modification----adding priors----in order to follow the idea of Cameron and Trivedi(2005). The experiments seem to confirm my thoughts. \r\n",
        "\r\n",
        "![](https://i.imgur.com/0qv5abF.png)\r\n",
        "\r\n",
        "![](https://i.imgur.com/qbxaipU.png)\r\n",
        "\r\n",
        "![](https://i.imgur.com/WSp78Ss.png)"
      ]
    },
    {
      "cell_type": "code",
      "metadata": {
        "id": "cj_5KrE5sY37"
      },
      "source": [
        "|"
      ],
      "execution_count": null,
      "outputs": []
    }
  ]
}